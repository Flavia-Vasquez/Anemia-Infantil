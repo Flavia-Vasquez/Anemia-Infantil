{
  "nbformat": 4,
  "nbformat_minor": 0,
  "metadata": {
    "colab": {
      "provenance": []
    },
    "kernelspec": {
      "name": "python3",
      "display_name": "Python 3"
    },
    "language_info": {
      "name": "python"
    }
  },
  "cells": [
    {
      "cell_type": "markdown",
      "source": [
        "# **Anemia Infantil**"
      ],
      "metadata": {
        "id": "7O1gi-duNJMi"
      }
    },
    {
      "cell_type": "markdown",
      "source": [
        "## Introducción\n",
        "El análisis de datos es una herramienta fundamental para comprender problemáticas de salud pública, como la anemia. En este proyecto, se implementó un proceso sistemático que incluye la instalación de dependencias, la recolección de datos mediante técnicas de web scraping, y la limpieza de datos para garantizar su calidad y utilidad en el análisis.\n",
        "\n",
        "Los datos obtenidos, relacionados con la prevalencia de anemia en el Perú, fueron organizados en un DataFrame utilizando la biblioteca pandas. Este marco de datos incluye información categorizada por departamento, tipo de anemia y años, lo que permite realizar un análisis detallado. Adicionalmente, se llevaron a cabo operaciones de limpieza, como la asignación manual de encabezados, el manejo de valores faltantes y la eliminación de filas y columnas irrelevantes."
      ],
      "metadata": {
        "id": "CkuhCyxg5eLC"
      }
    },
    {
      "cell_type": "markdown",
      "source": [
        "## Objetivos\n",
        "### Objetivo general:\n",
        "*   Estructurar y limpiar un conjunto de datos sobre anemia en el Perú, obtenidos mediante web scraping, para preparar la información para un análisis posterior.\n",
        "\n",
        "### Objetivos específicos:\n",
        "*   Instalar y configurar las dependencias necesarias para automatizar la recolección de datos.\n",
        "*   Extraer información relacionada con la anemia infantil utilizando técnicas de web scraping.\n",
        "*   Construir un DataFrame con los datos recolectados, organizándolo por años, departamentos y tipo de anemia.\n",
        "*   Realizar operaciones de limpieza de datos, como la asignación de encabezados, manejo de valores faltantes y eliminación de información redundante.\n",
        "*   Automatizar la extracción y limpieza de datos relacionados con la prevalencia de anemia en el Perú\n"
      ],
      "metadata": {
        "id": "2s9xr0DN5cV6"
      }
    },
    {
      "cell_type": "markdown",
      "source": [
        "## Preparación del entorno\n",
        "\n",
        "Se configuro el entorno con las siguientes bibliotecas:\n",
        "\n",
        "1. **Pandas:** Manipulación y limpieza de datos\n",
        "2. **Numpy:** Operaciones numéricas avanzadas, manejo de valores Na\n",
        "3. **Selenium:** Automatización del navegador web.\n",
        "\n",
        "  Dentro de Selenium encontramos las siguientes clases:\n",
        " * Webdriver: Control del navegador Chrome\n",
        " * By: Localización del elemento HTML\n",
        " * Keys: Manejo de teclas\n",
        " * ActionChains: Realiza acciones complejas que no son posibles con las interacciones estándar de Selenium\n",
        " * WebDriverWait y expected_condition: Maneja los tiempos de espera\n",
        "\n",
        "\n",
        "\n",
        "\n",
        "\n",
        "\n",
        "\n",
        "\n",
        "\n"
      ],
      "metadata": {
        "id": "gU-ys2205aZy"
      }
    },
    {
      "cell_type": "markdown",
      "source": [
        "## Instalación de dependencias\n",
        "\n",
        "Para instalar las bibliotecas necesarias se ejecuto el siguiente código:"
      ],
      "metadata": {
        "id": "CEH4mmRZ5V56"
      }
    },
    {
      "cell_type": "code",
      "source": [
        "import pandas as pd\n",
        "import numpy as np\n",
        "from selenium import webdriver\n",
        "from selenium.webdriver.common.by import By\n",
        "from selenium.webdriver.common.keys import Keys\n",
        "from selenium.webdriver.common.action_chains import ActionChains\n",
        "from selenium.webdriver.support.ui import WebDriverWait\n",
        "from selenium.webdriver.support import expected_conditions as EC"
      ],
      "metadata": {
        "id": "44-j5RAp4-cL"
      },
      "execution_count": null,
      "outputs": []
    },
    {
      "cell_type": "markdown",
      "source": [
        "## Recoleccion de datos\n",
        "\n",
        "Se configuro **selenium** para controlar el navegador Goggle Chrome y acceder al sitio web que contiene información relevante sobre la anemia. Estos datos se extrajeron de una tabla HTML ubicada en el sitio web, mediante unos pasos de interacción. A continuacion el proceso para la recolección de datos:"
      ],
      "metadata": {
        "id": "QsX71f7u584z"
      }
    },
    {
      "cell_type": "code",
      "source": [
        "# Configurar el controlador de Chrome\n",
        "driver = webdriver.Chrome()\n",
        "\n",
        "# Abrir la página web\n",
        "driver.get(\"https://systems.inei.gob.pe/SIRTOD/app/consulta\")\n",
        "\n",
        "# Esperar a que la página cargue completamente\n",
        "wait = WebDriverWait(driver, 25)\n",
        "\n",
        "# Paso 1: Esperar a que el loader desaparezca\n",
        "wait.until(EC.invisibility_of_element_located((By.ID, \"loader\")))\n",
        "\n",
        "# Paso 2: Hacer clic en el campo \"Buscar indicador\"\n",
        "search_field = wait.until(EC.visibility_of_element_located((By.XPATH, '//*[@id=\"indicador-cajatexto\"]')))\n",
        "ActionChains(driver).move_to_element(search_field).perform()\n",
        "search_field.click()\n",
        "\n",
        "# Paso 3: Escribir \"anemia\" en el campo de búsqueda\n",
        "search_field.send_keys(\"anemia\")\n",
        "search_field.send_keys(Keys.RETURN)\n",
        "\n",
        "# Paso 4: Hacer clic en los checkboxes correspondientes\n",
        "checkboxes = [\n",
        "    '//*[@id=\"nodoh17779\"]/img',\n",
        "    '//*[@id=\"nodoh17780\"]/img',\n",
        "    '//*[@id=\"nodoh17781\"]/img',\n",
        "    '//*[@id=\"nodoh17782\"]/img'\n",
        "]\n",
        "\n",
        "for checkbox_xpath in checkboxes:\n",
        "    checkbox = wait.until(EC.element_to_be_clickable((By.XPATH, checkbox_xpath)))\n",
        "    checkbox.click()\n",
        "\n",
        "# Paso 5: Hacer clic en el botón de \"Ejecutar\"\n",
        "ejecutar_button = wait.until(EC.element_to_be_clickable((By.XPATH, '//*[@id=\"ubigeo-ejecutar\"]/button')))\n",
        "ejecutar_button.click()\n",
        "\n",
        "# Paso 6: Extraer la tabla que aparece después de aplicar los filtros\n",
        "table = wait.until(EC.presence_of_element_located((By.CLASS_NAME, \"pvtTable\")))\n",
        "rows = table.find_elements(By.TAG_NAME, \"tr\")"
      ],
      "metadata": {
        "id": "g0sI3PMW5gMT"
      },
      "execution_count": null,
      "outputs": []
    },
    {
      "cell_type": "markdown",
      "source": [
        "## Limpieza de datos\n",
        "\n",
        "Se construye un DataFrame con pandas para realizar las siguientes operaciones de limpieza en los datos extraídos:\n",
        "\n",
        "* Encabezados: Se asignaron manualmente los nombres de las columnas (años: 2000, 2008-2023).\n",
        "\n",
        "* Columnas adicionales: Se agregaron Departamento e Indicador Anemia % para categorizar los datos.\n",
        "\n",
        "* Departamentos: Se asignaron nombres de departamentos siguiendo el patrón de filas de la tabla.\n",
        "\n",
        "* Manejo de valores faltantes: Se remplazan los valores faltan con el promedio de los valores en la misma fila\n",
        "\n",
        "* Eliminacion de filas y columnas adicionales innecesarias\n",
        "\n",
        "\n",
        "\n"
      ],
      "metadata": {
        "id": "NxiJgUuX6jii"
      }
    },
    {
      "cell_type": "code",
      "source": [
        "# Convertir los datos en un DataFrame de pandas y eliminar la última columna vacía\n",
        "df = pd.DataFrame(data).iloc[:, :-1]\n",
        "\n",
        "# Definir los encabezados manualmente (para las 18 columnas restantes)\n",
        "headers = [2000, 2008, 2009, 2010, 2011, 2012, 2013, 2014, 2015, 2016, 2017, 2018, 2019, 2020, 2021, 2022, 2023]\n",
        "\n",
        "# Verificar que el número de columnas coincida con los encabezados\n",
        "if df.shape[1] == len(headers):\n",
        "    df.columns = headers\n",
        "else:\n",
        "    print(\"El número de columnas en el DataFrame no coincide con la cantidad de encabezados proporcionados.\")\n",
        "\n",
        "# Agregar las dos nuevas columnas al lado izquierdo\n",
        "df.insert(0, 'Departamento', '')\n",
        "df.insert(1, 'Indicador Anemia %', '')\n",
        "\n",
        "# Lista de departamentos\n",
        "departamentos = [\n",
        "    \"AMAZONAS\", \"ÁNCASH\", \"APURÍMAC\", \"AREQUIPA\", \"AYACUCHO\", \"CAJAMARCA\",\n",
        "    \"CALLAO\", \"CUSCO\", \"HUANCAVELICA\", \"HUÁNUCO\", \"ICA\", \"JUNÍN\",\n",
        "    \"LA LIBERTAD\", \"LAMBAYEQUE\", \"LIMA\", \"LORETO\", \"MADRE DE DIOS\", \"MOQUEGUA\",\n",
        "    \"PASCO\", \"PIURA\", \"PUNO\", \"SAN MARTÍN\", \"TACNA\", \"TUMBES\",\n",
        "    \"UCAYALI\", \"LIMA METROPOLITANA 1/\", \"LIMA 2/\"\n",
        "]\n",
        "\n",
        "# Asignar nombres de departamentos\n",
        "row_idx = 0\n",
        "for departamento in departamentos:\n",
        "    if departamento == \"LIMA METROPOLITANA 1/\":\n",
        "        # Excepción para \"LIMA METROPOLITANA 1/\"\n",
        "        df.loc[row_idx:row_idx+2, 'Departamento'] = departamento\n",
        "        row_idx += 3\n",
        "    else:\n",
        "        df.loc[row_idx:row_idx+3, 'Departamento'] = departamento\n",
        "        row_idx += 4\n",
        "\n",
        "# Llenar la columna 'Indicador Anemia %' con el patrón, omitiendo \"Severa\" para Lima Metropolitana\n",
        "indicadores = [\"Leve\", \"Moderada\", \"Severa\", \"Total\"]\n",
        "indicator_idx = 0\n",
        "\n",
        "for idx in range(df.shape[0]):\n",
        "    if df.at[idx, 'Departamento'] == \"LIMA METROPOLITANA 1/\" and indicator_idx == 2:\n",
        "        # Saltar \"Severa\" para Lima Metropolitana\n",
        "        indicator_idx += 1\n",
        "    df.at[idx, 'Indicador Anemia %'] = indicadores[indicator_idx]\n",
        "    indicator_idx = (indicator_idx + 1) % 4  # Reiniciar el patrón cada 4 indicadores\n",
        "\n",
        "# Eliminar filas adicionales innecesarias\n",
        "df.drop(index=df.index[[107, 108]], inplace=True)"
      ],
      "metadata": {
        "id": "URpk75mv8PuS"
      },
      "execution_count": null,
      "outputs": []
    },
    {
      "cell_type": "code",
      "source": [
        "# Reemplazar los NaN con el promedio de los valores numéricos en la misma fila\n",
        "for col in df.columns[2:]:\n",
        "    df[col] = df[col].astype(str).replace('-', np.nan).str.replace(',', '.')\n",
        "    df[col] = pd.to_numeric(df[col], errors='coerce')\n",
        "\n",
        "df.iloc[:, 2:] = df.iloc[:, 2:].apply(\n",
        "    lambda row: row.fillna(row.mean()), axis=1\n",
        ")\n",
        "\n",
        "# (Opcional) Volver a formatear los números con comas como separador decimal\n",
        "for col in df.columns[2:]:\n",
        "    df[col] = df[col].apply(lambda x: f\"{x:.1f}\".replace('.', ','))\n",
        "\n",
        "# Lista de las columnas de los años (como está en tu código)\n",
        "year_columns = [2000, 2008, 2009, 2010, 2011, 2012, 2013, 2014, 2015, 2016, 2017, 2018, 2019, 2020, 2021, 2022, 2023]\n",
        "\n",
        "# Convertir los valores a float correctamente, reemplazando comas por puntos\n",
        "for year in year_columns:\n",
        "    df[year] = df[year].str.replace(',', '.').astype(float)\n",
        "\n",
        "# Iterar sobre los departamentos\n",
        "for depto in df['Departamento'].unique():\n",
        "    # Filtrar las filas correspondientes a 'Leve', 'Moderada', 'Severa' para este departamento\n",
        "    rows_to_sum = df[(df['Departamento'] == depto) & (df['Indicador Anemia %'].isin(['Leve', 'Moderada', 'Severa']))]\n",
        "\n",
        "    # Filtrar la fila correspondiente a 'Total' para este departamento\n",
        "    total_row_idx = df[(df['Departamento'] == depto) & (df['Indicador Anemia %'] == 'Total')].index\n",
        "\n",
        "    if not rows_to_sum.empty and not total_row_idx.empty:\n",
        "        # Iterar sobre las columnas de los años\n",
        "        for year in year_columns:\n",
        "            # Sumar los valores de los indicadores 'Leve', 'Moderada', 'Severa' para el año en cuestión\n",
        "            total_value = rows_to_sum[year].sum(skipna=True)\n",
        "\n",
        "            # Asignar la suma total al año correspondiente en la fila 'Total'\n",
        "            df.at[total_row_idx[0], year] = total_value\n",
        "\n",
        "# Ver el DataFrame resultante con los totales actualizados\n",
        "print(df)\n",
        "# Cerrar el navegador\n",
        "driver.quit()"
      ],
      "metadata": {
        "id": "KTPSwMur9Eqb"
      },
      "execution_count": null,
      "outputs": []
    },
    {
      "cell_type": "markdown",
      "source": [
        "## Resultados\n",
        "\n",
        "El proceso de Web Scrapping resultó en una tabla estructurada y limpia sobre la anemia. Estos datos procesados se almacenaron en un DataFrame y esta listo para ser analizado"
      ],
      "metadata": {
        "id": "Bh9Ls-orsMxV"
      }
    },
    {
      "cell_type": "code",
      "source": [
        "print(df)"
      ],
      "metadata": {
        "id": "1wMgno3NaBnP"
      },
      "execution_count": null,
      "outputs": []
    }
  ]
}